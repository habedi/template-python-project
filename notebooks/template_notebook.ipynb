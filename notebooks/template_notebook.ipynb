{
 "cells": [
  {
   "cell_type": "markdown",
   "id": "6781b6d71f7e750",
   "metadata": {},
   "source": "## Import Libraries"
  },
  {
   "cell_type": "code",
   "id": "initial_id",
   "metadata": {
    "collapsed": true,
    "ExecuteTime": {
     "end_time": "2025-05-16T10:00:28.599842Z",
     "start_time": "2025-05-16T10:00:27.829889Z"
    }
   },
   "source": [
    "import sys\n",
    "from pathlib import Path\n",
    "\n",
    "import datasets as ds\n",
    "import matplotlib.pyplot as plt\n",
    "import numpy as np\n",
    "import pandas as pd\n",
    "import polars as pl\n",
    "import seaborn as sns\n",
    "from icecream import ic"
   ],
   "outputs": [],
   "execution_count": 1
  },
  {
   "cell_type": "markdown",
   "id": "1d7ac8b9f6c3a17f",
   "metadata": {},
   "source": "## Settings"
  },
  {
   "cell_type": "code",
   "id": "49187922af8dc248",
   "metadata": {
    "ExecuteTime": {
     "end_time": "2025-05-16T10:00:28.686426Z",
     "start_time": "2025-05-16T10:00:28.683789Z"
    }
   },
   "source": [
    "pd.set_option(\"display.max_columns\", None)\n",
    "pd.set_option(\"display.max_rows\", None)\n",
    "\n",
    "rng = np.random.default_rng(42)\n",
    "\n",
    "pl.enable_string_cache()\n",
    "pl.Config.set_decimal_separator(\",\")\n",
    "\n",
    "plt.style.use(\"bmh\")\n",
    "plt.rcParams[\"figure.figsize\"] = (12, 6)\n",
    "plt.rcParams[\"axes.titlesize\"] = 20\n",
    "\n",
    "sns.set_context(\"notebook\", font_scale=1.5)"
   ],
   "outputs": [],
   "execution_count": 2
  },
  {
   "cell_type": "markdown",
   "id": "10bd4ebb7af0097d",
   "metadata": {},
   "source": "## Constants"
  },
  {
   "cell_type": "code",
   "id": "4d9d9f7052e11adc",
   "metadata": {
    "ExecuteTime": {
     "end_time": "2025-05-16T10:00:28.693737Z",
     "start_time": "2025-05-16T10:00:28.692221Z"
    }
   },
   "source": [
    "DATA_DIR = Path(\"../data\")\n",
    "RAW_DATA_DIR = DATA_DIR / \"raw\"\n",
    "PROCESSED_DATA_DIR = DATA_DIR / \"processed\"\n",
    "OUTPUT_DATA_DIR = DATA_DIR / \"output\"\n",
    "\n",
    "MODEL_DIR = Path(\"../models\")"
   ],
   "outputs": [],
   "execution_count": 3
  },
  {
   "metadata": {
    "ExecuteTime": {
     "end_time": "2025-05-16T10:00:28.739296Z",
     "start_time": "2025-05-16T10:00:28.737652Z"
    }
   },
   "cell_type": "code",
   "source": [
    "SRC_DIR = Path(\"../src\")\n",
    "if str(SRC_DIR) not in sys.path:\n",
    "    sys.path.append(str(SRC_DIR))"
   ],
   "id": "cd198fd5d0ffae0e",
   "outputs": [],
   "execution_count": 4
  },
  {
   "cell_type": "markdown",
   "id": "e84dff469dd8e0a4",
   "metadata": {},
   "source": "## Load Data"
  },
  {
   "cell_type": "code",
   "id": "c4c3949840ca3096",
   "metadata": {
    "ExecuteTime": {
     "end_time": "2025-05-16T10:00:31.274753Z",
     "start_time": "2025-05-16T10:00:28.782567Z"
    }
   },
   "source": [
    "stack_exchange_dataset = ds.load_dataset(\"habedi/stack-exchange-dataset\", split=\"train\")"
   ],
   "outputs": [],
   "execution_count": 5
  },
  {
   "cell_type": "code",
   "id": "8ed6c55b563de78c",
   "metadata": {
    "ExecuteTime": {
     "end_time": "2025-05-16T10:00:31.378243Z",
     "start_time": "2025-05-16T10:00:31.280646Z"
    }
   },
   "source": [
    "ic(stack_exchange_dataset)"
   ],
   "outputs": [
    {
     "name": "stderr",
     "output_type": "stream",
     "text": [
      "ic| stack_exchange_dataset: Dataset({\n",
      "                                features: ['id', 'title', 'body', 'tags', 'label'],\n",
      "                                num_rows: 82158\n",
      "                            })\n"
     ]
    },
    {
     "data": {
      "text/plain": [
       "Dataset({\n",
       "    features: ['id', 'title', 'body', 'tags', 'label'],\n",
       "    num_rows: 82158\n",
       "})"
      ]
     },
     "execution_count": 6,
     "metadata": {},
     "output_type": "execute_result"
    }
   ],
   "execution_count": 6
  },
  {
   "cell_type": "code",
   "id": "3104efd43e7ffcf8",
   "metadata": {
    "ExecuteTime": {
     "end_time": "2025-05-16T10:00:31.453820Z",
     "start_time": "2025-05-16T10:00:31.452767Z"
    }
   },
   "source": [],
   "outputs": [],
   "execution_count": null
  }
 ],
 "metadata": {
  "kernelspec": {
   "display_name": "Python 3",
   "language": "python",
   "name": "python3"
  },
  "language_info": {
   "codemirror_mode": {
    "name": "ipython",
    "version": 2
   },
   "file_extension": ".py",
   "mimetype": "text/x-python",
   "name": "python",
   "nbconvert_exporter": "python",
   "pygments_lexer": "ipython2",
   "version": "2.7.6"
  }
 },
 "nbformat": 4,
 "nbformat_minor": 5
}
